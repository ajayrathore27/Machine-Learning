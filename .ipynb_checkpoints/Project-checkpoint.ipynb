{
 "cells": [
  {
   "cell_type": "code",
   "execution_count": 1,
   "metadata": {
    "collapsed": false
   },
   "outputs": [
    {
     "ename": "NameError",
     "evalue": "name 'sc' is not defined",
     "output_type": "error",
     "traceback": [
      "\u001b[0;31m---------------------------------------------------------------------------\u001b[0m",
      "\u001b[0;31mNameError\u001b[0m                                 Traceback (most recent call last)",
      "\u001b[0;32m<ipython-input-1-1d02d3a0fccb>\u001b[0m in \u001b[0;36m<module>\u001b[0;34m()\u001b[0m\n\u001b[1;32m     17\u001b[0m \u001b[1;33m\u001b[0m\u001b[0m\n\u001b[1;32m     18\u001b[0m \u001b[0mname\u001b[0m \u001b[1;33m=\u001b[0m \u001b[1;34m'keystone'\u001b[0m\u001b[1;33m\u001b[0m\u001b[0m\n\u001b[0;32m---> 19\u001b[0;31m \u001b[0mset_hadoop_config_with_credentials_f0a64df105924d5e8517e85b6a0695ce\u001b[0m\u001b[1;33m(\u001b[0m\u001b[0mname\u001b[0m\u001b[1;33m)\u001b[0m\u001b[1;33m\u001b[0m\u001b[0m\n\u001b[0m\u001b[1;32m     20\u001b[0m \u001b[1;33m\u001b[0m\u001b[0m\n\u001b[1;32m     21\u001b[0m \u001b[1;31m#Spark RDDs of all four CSVs:\u001b[0m\u001b[1;33m\u001b[0m\u001b[1;33m\u001b[0m\u001b[0m\n",
      "\u001b[0;32m<ipython-input-1-1d02d3a0fccb>\u001b[0m in \u001b[0;36mset_hadoop_config_with_credentials_f0a64df105924d5e8517e85b6a0695ce\u001b[0;34m(name)\u001b[0m\n\u001b[1;32m      6\u001b[0m \u001b[1;33m\u001b[0m\u001b[0m\n\u001b[1;32m      7\u001b[0m     \u001b[0mprefix\u001b[0m \u001b[1;33m=\u001b[0m \u001b[1;34m'fs.swift.service.'\u001b[0m \u001b[1;33m+\u001b[0m \u001b[0mname\u001b[0m\u001b[1;33m\u001b[0m\u001b[0m\n\u001b[0;32m----> 8\u001b[0;31m     \u001b[0mhconf\u001b[0m \u001b[1;33m=\u001b[0m \u001b[0msc\u001b[0m\u001b[1;33m.\u001b[0m\u001b[0m_jsc\u001b[0m\u001b[1;33m.\u001b[0m\u001b[0mhadoopConfiguration\u001b[0m\u001b[1;33m(\u001b[0m\u001b[1;33m)\u001b[0m\u001b[1;33m\u001b[0m\u001b[0m\n\u001b[0m\u001b[1;32m      9\u001b[0m     \u001b[0mhconf\u001b[0m\u001b[1;33m.\u001b[0m\u001b[0mset\u001b[0m\u001b[1;33m(\u001b[0m\u001b[0mprefix\u001b[0m \u001b[1;33m+\u001b[0m \u001b[1;34m'.auth.url'\u001b[0m\u001b[1;33m,\u001b[0m \u001b[1;34m'https://identity.open.softlayer.com'\u001b[0m\u001b[1;33m+\u001b[0m\u001b[1;34m'/v3/auth/tokens'\u001b[0m\u001b[1;33m)\u001b[0m\u001b[1;33m\u001b[0m\u001b[0m\n\u001b[1;32m     10\u001b[0m     \u001b[0mhconf\u001b[0m\u001b[1;33m.\u001b[0m\u001b[0mset\u001b[0m\u001b[1;33m(\u001b[0m\u001b[0mprefix\u001b[0m \u001b[1;33m+\u001b[0m \u001b[1;34m'.auth.endpoint.prefix'\u001b[0m\u001b[1;33m,\u001b[0m \u001b[1;34m'endpoints'\u001b[0m\u001b[1;33m)\u001b[0m\u001b[1;33m\u001b[0m\u001b[0m\n",
      "\u001b[0;31mNameError\u001b[0m: name 'sc' is not defined"
     ]
    }
   ],
   "source": [
    "#Data Loading from CSV into SPARK RDD\n",
    "\n",
    "def set_hadoop_config_with_credentials_f0a64df105924d5e8517e85b6a0695ce(name):\n",
    "    '''This function sets the Hadoop configuration so it is possible to\n",
    "    access data from Bluemix Object Storage using Spark'''\n",
    "\n",
    "    prefix = 'fs.swift.service.' + name\n",
    "    hconf = sc._jsc.hadoopConfiguration()\n",
    "    hconf.set(prefix + '.auth.url', 'https://identity.open.softlayer.com'+'/v3/auth/tokens')\n",
    "    hconf.set(prefix + '.auth.endpoint.prefix', 'endpoints')\n",
    "    hconf.set(prefix + '.tenant', 'c1bc603f45a944c8bebecf4459b886a4')\n",
    "    hconf.set(prefix + '.username', '5c7793bbf03b4d85b3e0458e5930e396')\n",
    "    hconf.set(prefix + '.password', 'UILc^{]BQI0s}U8M')\n",
    "    hconf.setInt(prefix + '.http.port', 8080)\n",
    "    hconf.set(prefix + '.region', 'dallas')\n",
    "    hconf.setBoolean(prefix + '.public', False)\n",
    "\n",
    "name = 'keystone'\n",
    "set_hadoop_config_with_credentials_f0a64df105924d5e8517e85b6a0695ce(name)\n",
    "\n",
    "#Spark RDDs of all four CSVs:\n",
    "Ratings_Data = sc.textFile(\"swift://DefaultProjectajayrathore27gmailcom.\" + name + \"/ratings.csv\")\n",
    "#Ratings_Data.take(5)\n",
    "Links_Data = sc.textFile(\"swift://DefaultProjectajayrathore27gmailcom.\" + name + \"/links.csv\")\n",
    "#Links_Data.take(5)\n",
    "Movies_Data = sc.textFile(\"swift://DefaultProjectajayrathore27gmailcom.\" + name + \"/movies.csv\")\n",
    "#Movies_Data.take(5)\n",
    "Tags_Data = sc.textFile(\"swift://DefaultProjectajayrathore27gmailcom.\" + name + \"/tags.csv\")\n",
    "#Tags_Data.take(5)\n",
    "Ratings_Data.take(5)"
   ]
  },
  {
   "cell_type": "code",
   "execution_count": 2,
   "metadata": {
    "collapsed": false
   },
   "outputs": [
    {
     "ename": "NameError",
     "evalue": "name 'Ratings_Data' is not defined",
     "output_type": "error",
     "traceback": [
      "\u001b[0;31m---------------------------------------------------------------------------\u001b[0m",
      "\u001b[0;31mNameError\u001b[0m                                 Traceback (most recent call last)",
      "\u001b[0;32m<ipython-input-2-a52f1e6112d8>\u001b[0m in \u001b[0;36m<module>\u001b[0;34m()\u001b[0m\n\u001b[1;32m      1\u001b[0m \u001b[1;31m#Filtering headers to remove for main Data\u001b[0m\u001b[1;33m\u001b[0m\u001b[1;33m\u001b[0m\u001b[0m\n\u001b[0;32m----> 2\u001b[0;31m \u001b[0mRatings_Data_header\u001b[0m \u001b[1;33m=\u001b[0m \u001b[0mRatings_Data\u001b[0m\u001b[1;33m.\u001b[0m\u001b[0mtake\u001b[0m\u001b[1;33m(\u001b[0m\u001b[1;36m1\u001b[0m\u001b[1;33m)\u001b[0m\u001b[1;33m[\u001b[0m\u001b[1;36m0\u001b[0m\u001b[1;33m]\u001b[0m\u001b[1;33m\u001b[0m\u001b[0m\n\u001b[0m\u001b[1;32m      3\u001b[0m \u001b[0mLinks_Data_header\u001b[0m \u001b[1;33m=\u001b[0m \u001b[0mLinks_Data\u001b[0m\u001b[1;33m.\u001b[0m\u001b[0mtake\u001b[0m\u001b[1;33m(\u001b[0m\u001b[1;36m1\u001b[0m\u001b[1;33m)\u001b[0m\u001b[1;33m[\u001b[0m\u001b[1;36m0\u001b[0m\u001b[1;33m]\u001b[0m\u001b[1;33m\u001b[0m\u001b[0m\n\u001b[1;32m      4\u001b[0m \u001b[0mMovies_Data_header\u001b[0m \u001b[1;33m=\u001b[0m \u001b[0mMovies_Data\u001b[0m\u001b[1;33m.\u001b[0m\u001b[0mtake\u001b[0m\u001b[1;33m(\u001b[0m\u001b[1;36m1\u001b[0m\u001b[1;33m)\u001b[0m\u001b[1;33m[\u001b[0m\u001b[1;36m0\u001b[0m\u001b[1;33m]\u001b[0m\u001b[1;33m\u001b[0m\u001b[0m\n\u001b[1;32m      5\u001b[0m \u001b[0mTags_Data_header\u001b[0m \u001b[1;33m=\u001b[0m \u001b[0mTags_Data\u001b[0m\u001b[1;33m.\u001b[0m\u001b[0mtake\u001b[0m\u001b[1;33m(\u001b[0m\u001b[1;36m1\u001b[0m\u001b[1;33m)\u001b[0m\u001b[1;33m[\u001b[0m\u001b[1;36m0\u001b[0m\u001b[1;33m]\u001b[0m\u001b[1;33m\u001b[0m\u001b[0m\n",
      "\u001b[0;31mNameError\u001b[0m: name 'Ratings_Data' is not defined"
     ]
    }
   ],
   "source": [
    "#Filtering headers to remove for main Data\n",
    "Ratings_Data_header = Ratings_Data.take(1)[0]\n",
    "Links_Data_header = Links_Data.take(1)[0]\n",
    "Movies_Data_header = Movies_Data.take(1)[0]\n",
    "Tags_Data_header = Tags_Data.take(1)[0]\n",
    "\n",
    "#Data Filtering\n",
    "Ratings_DF = Ratings_Data.filter(lambda line: line!=Ratings_Data_header)\\\n",
    "    .map(lambda line: line.split(\",\")).map(lambda x: (x[0],x[1],x[2])).cache()\n",
    "#Ratings_DF.take(3)\n",
    "\n",
    "Links_DF = Links_Data.filter(lambda line: line!=Links_Data_header)\\\n",
    "    .map(lambda line: line.split(\",\")).map(lambda x: (x[0],x[1],x[2])).cache()\n",
    "#Links_DF.take(3)\n",
    "\n",
    "Movies_DF = Movies_Data.filter(lambda line: line!=Movies_Data_header)\\\n",
    "    .map(lambda line: line.split(\",\")).map(lambda x: (x[0],x[1])).cache()\n",
    "#Movies_DF.take(3)\n",
    "Movies_titles = Movies_DF.map(lambda x: (int(x[0]),x[1]))\n",
    "\n",
    "Tags_DF = Tags_Data.filter(lambda line: line!=Tags_Data_header)\\\n",
    "    .map(lambda line: line.split(\",\")).map(lambda tokens: (tokens[0],tokens[1],tokens[2])).cache()\n",
    "#Tags_DF.take(3)"
   ]
  },
  {
   "cell_type": "code",
   "execution_count": 4,
   "metadata": {
    "collapsed": false
   },
   "outputs": [
    {
     "name": "stdout",
     "output_type": "stream",
     "text": [
      "For rank 4 the RMSE is 0.947397387831\n",
      "For rank 8 the RMSE is 0.957024708311\n",
      "For rank 12 the RMSE is 0.951066411985\n",
      "In training phase:\n",
      "The best model is trained with rank 4\n"
     ]
    }
   ],
   "source": [
    "\n",
    "#Spark MLlib for RDDs, Implementing Collaborative filetering using Alternating Least Squares (ALS)\n",
    "\n",
    "#Dividing Data set for ALS \n",
    "train_data, valid_data, test_data = Ratings_DF.randomSplit([6, 2, 2], seed=0L)\n",
    "validation_to_predict = valid_data.map(lambda x: (x[0], x[1]))\n",
    "\n",
    "#training on RatingsData\n",
    "from pyspark.mllib.recommendation import ALS\n",
    "import math\n",
    "\n",
    "seed = 5L\n",
    "iterations = 10\n",
    "regularization_parameter = 0.1\n",
    "ranks = [4,8,12]\n",
    "errors = [0, 0, 0]\n",
    "err = 0\n",
    "tolerance = 0.02\n",
    "\n",
    "min_error = float('inf')\n",
    "best_rank = -1\n",
    "best_iteration = -1\n",
    "#avg_error= 0.0\n",
    "for rank in ranks:\n",
    "    model = ALS.train(train_data, rank, seed=seed, iterations=iterations,\n",
    "                      lambda_=regularization_parameter)\n",
    "    predictions = model.predictAll(validation_to_predict).map(lambda r: ((r[0], r[1]), r[2]))\n",
    "    rates_and_preds = valid_data.map(lambda r: ((int(r[0]), int(r[1])), float(r[2]))).join(predictions)\n",
    "    error = math.sqrt(rates_and_preds.map(lambda r: (r[1][0] - r[1][1])**2).mean())\n",
    "    errors[err] = error\n",
    "    err += 1\n",
    "    print 'For rank %s the RMSE is %s' % (rank, error)\n",
    "    if error < min_error:\n",
    "        min_error = error\n",
    "        best_rank = rank\n",
    "\n",
    "print 'In training phase:'\n",
    "print 'The best model is trained with rank %s' % best_rank\n",
    "\n"
   ]
  },
  {
   "cell_type": "code",
   "execution_count": 5,
   "metadata": {
    "collapsed": false
   },
   "outputs": [
    {
     "name": "stdout",
     "output_type": "stream",
     "text": [
      "In testing phase:\n",
      "For testing data the RMSE is 0.915702432548\n"
     ]
    }
   ],
   "source": [
    "\n",
    "#Testing Model on Test Data.. here we are removing validation set\n",
    "train_data, test_data = Ratings_DF.randomSplit([8, 2], seed=5L)\n",
    "\n",
    "model = ALS.train(train_data, best_rank, seed=seed, \n",
    "                           iterations=iterations, lambda_=regularization_parameter)\n",
    "\n",
    "test_to_predict = test_data.map(lambda x: (x[0], x[1]))\n",
    "\n",
    "predictions = model.predictAll(test_to_predict).map(lambda r: ((r[0], r[1]), r[2]))\n",
    "rates_and_preds = test_data.map(lambda r: ((int(r[0]), int(r[1])), float(r[2]))).join(predictions)\n",
    "error = math.sqrt(rates_and_preds.map(lambda r: (r[1][0] - r[1][1])**2).mean())\n",
    "\n",
    "print 'In testing phase:'\n",
    "print 'For testing data the RMSE is %s' % (error)\n"
   ]
  },
  {
   "cell_type": "code",
   "execution_count": 6,
   "metadata": {
    "collapsed": false
   },
   "outputs": [
    {
     "name": "stdout",
     "output_type": "stream",
     "text": [
      "New user ratings: [(672, 260, 4), (672, 1, 3), (672, 16, 3), (672, 25, 4), (672, 32, 4)]\n"
     ]
    }
   ],
   "source": [
    "#Add new user ratings\n",
    "nuser_ID = 672\n",
    "\n",
    "# The format of each line is (userID, movieID, rating)\n",
    "nuser_ratings = [\n",
    "     (672,260,4), # Star Wars (1977)\n",
    "     (672,1,3), # Toy Story (1995)\n",
    "     (672,16,3), # Casino (1995)\n",
    "     (672,25,4), # Leaving Las Vegas (1995)\n",
    "     (672,32,4), # Twelve Monkeys (a.k.a. 12 Monkeys) (1995)\n",
    "     (672,335,1), # Flintstones, The (1994)\n",
    "     (672,379,1), # Timecop (1994)\n",
    "     (672,296,3), # Pulp Fiction (1994)\n",
    "     (672,858,5) , # Godfather, The (1972)\n",
    "     (672,50,4) # Usual Suspects, The (1995)\n",
    "    ]\n",
    "new_user_ratings= sc.parallelize(nuser_ratings)\n",
    "print 'New user ratings: %s' % new_user_ratings.take(5)"
   ]
  },
  {
   "cell_type": "code",
   "execution_count": 7,
   "metadata": {
    "collapsed": false,
    "scrolled": false
   },
   "outputs": [
    {
     "data": {
      "text/plain": [
       "[(1, 31, 2.5), (1, 1029, 3.0), (1, 1061, 3.0)]"
      ]
     },
     "execution_count": 7,
     "metadata": {},
     "output_type": "execute_result"
    }
   ],
   "source": [
    "Ratings_DF = Ratings_DF.map(lambda x: (int(x[0].encode(\"utf-8\")),int(x[1].encode(\"utf-8\")),float(x[2].encode(\"utf-8\"))))\n",
    "Ratings_DF.take(3)"
   ]
  },
  {
   "cell_type": "code",
   "execution_count": 8,
   "metadata": {
    "collapsed": false
   },
   "outputs": [
    {
     "data": {
      "text/plain": [
       "[(672, 260, 4), (672, 1, 3), (672, 16, 3)]"
      ]
     },
     "execution_count": 8,
     "metadata": {},
     "output_type": "execute_result"
    }
   ],
   "source": [
    "new_user_ratings.take(3)"
   ]
  },
  {
   "cell_type": "code",
   "execution_count": 9,
   "metadata": {
    "collapsed": false
   },
   "outputs": [
    {
     "name": "stdout",
     "output_type": "stream",
     "text": [
      "(672, 50, 4)\n"
     ]
    }
   ],
   "source": [
    "data_with_new_ratings = Ratings_DF.union(new_user_ratings)\n",
    "NU=data_with_new_ratings.collect()\n",
    "print NU[-1]"
   ]
  },
  {
   "cell_type": "code",
   "execution_count": 10,
   "metadata": {
    "collapsed": false
   },
   "outputs": [
    {
     "name": "stdout",
     "output_type": "stream",
     "text": [
      "New model trained in 2.293 seconds\n",
      "[260, 1, 16, 25, 32, 335, 379, 296, 858, 50]\n"
     ]
    }
   ],
   "source": [
    "#training Data with new rating:\n",
    "from time import time\n",
    "\n",
    "t1 = time()\n",
    "new_model = ALS.train(data_with_new_ratings, best_rank, seed=seed, \n",
    "                              iterations=iterations, lambda_=regularization_parameter)\n",
    "t2 = time() - t1\n",
    "print \"New model trained in %s seconds\" % round(t2,3)\n",
    "\n",
    "#getting recommendations\n",
    "\n",
    "new_user_ratings_ids = map(lambda x: x[1], nuser_ratings) # get just movie IDs\n",
    "print new_user_ratings_ids\n"
   ]
  },
  {
   "cell_type": "code",
   "execution_count": 11,
   "metadata": {
    "collapsed": false
   },
   "outputs": [
    {
     "data": {
      "text/plain": [
       "[(u'1', u'Toy Story (1995)'),\n",
       " (u'2', u'Jumanji (1995)'),\n",
       " (u'3', u'Grumpier Old Men (1995)')]"
      ]
     },
     "execution_count": 11,
     "metadata": {},
     "output_type": "execute_result"
    }
   ],
   "source": [
    "Movies_DF.take(3)"
   ]
  },
  {
   "cell_type": "code",
   "execution_count": 12,
   "metadata": {
    "collapsed": false
   },
   "outputs": [
    {
     "data": {
      "text/plain": [
       "[(672, u'1'), (672, u'2'), (672, u'3')]"
      ]
     },
     "execution_count": 12,
     "metadata": {},
     "output_type": "execute_result"
    }
   ],
   "source": [
    "# keep just those not on the ID list\n",
    "new_user_unrated_movies = Movies_DF.filter(lambda x: x[0].encode('utf-8') not in new_user_ratings_ids).map(lambda x: (nuser_ID, x[0]))\n",
    "new_user_unrated_movies.take(3)"
   ]
  },
  {
   "cell_type": "code",
   "execution_count": 13,
   "metadata": {
    "collapsed": true
   },
   "outputs": [],
   "source": [
    "# Use the input RDD, new_user_unrated_movies RDD, with new_model.predictAll() to predict new ratings for the movies\n",
    "new_user_recommendations = new_model.predictAll(new_user_unrated_movies)"
   ]
  },
  {
   "cell_type": "code",
   "execution_count": 14,
   "metadata": {
    "collapsed": false
   },
   "outputs": [
    {
     "data": {
      "text/plain": [
       "[(3702, 3.109329805496092), (69069, 1.689298527771082)]"
      ]
     },
     "execution_count": 14,
     "metadata": {},
     "output_type": "execute_result"
    }
   ],
   "source": [
    "#Convert new_user_recommendations RDD into pairs of the form (Movie ID, Predicted Rating)\n",
    "new_user_recommend_rating = new_user_recommendations.map(lambda x: (x.product, x.rating))\n",
    "new_user_recommend_rating.take(2)"
   ]
  },
  {
   "cell_type": "code",
   "execution_count": 15,
   "metadata": {
    "collapsed": false
   },
   "outputs": [
    {
     "data": {
      "text/plain": [
       "[(1, u'Toy Story (1995)'),\n",
       " (2, u'Jumanji (1995)'),\n",
       " (3, u'Grumpier Old Men (1995)')]"
      ]
     },
     "execution_count": 15,
     "metadata": {},
     "output_type": "execute_result"
    }
   ],
   "source": [
    "Movies_titles.take(3)"
   ]
  },
  {
   "cell_type": "code",
   "execution_count": 16,
   "metadata": {
    "collapsed": false
   },
   "outputs": [
    {
     "data": {
      "text/plain": [
       "[(2, (107, 3.4018691588785046)),\n",
       " (97328, (1, 3.0)),\n",
       " (4, (13, 2.3846153846153846))]"
      ]
     },
     "execution_count": 16,
     "metadata": {},
     "output_type": "execute_result"
    }
   ],
   "source": [
    "#trying to provide some movie recommendations\n",
    "#First, to give recommendations of movies with a certain minimum number of ratings,we'll have to count the no. of ratings per movie.\n",
    "def get_counts_and_averages(ID_and_ratings_tuple):\n",
    "    nratings = len(ID_and_ratings_tuple[1])\n",
    "    return ID_and_ratings_tuple[0], (nratings, float(sum(x for x in ID_and_ratings_tuple[1]))/nratings)\n",
    "\n",
    "movieID_with_ratings = Ratings_DF.map(lambda x: (x[1], x[2])).groupByKey().map(lambda x: (x[0],list(x[1])))\n",
    "movieID_with_avg_ratings= movieID_with_ratings.map(get_counts_and_averages)\n",
    "movieID_with_avg_ratings.take(3)"
   ]
  },
  {
   "cell_type": "code",
   "execution_count": 17,
   "metadata": {
    "collapsed": false
   },
   "outputs": [
    {
     "data": {
      "text/plain": [
       "[(2, 107), (97328, 1), (4, 13)]"
      ]
     },
     "execution_count": 17,
     "metadata": {},
     "output_type": "execute_result"
    }
   ],
   "source": [
    "movie_rating_counts= movieID_with_avg_ratings.map(lambda x: (x[0], x[1][0]))\n",
    "movie_rating_counts.take(3)"
   ]
  },
  {
   "cell_type": "code",
   "execution_count": 18,
   "metadata": {
    "collapsed": false
   },
   "outputs": [
    {
     "data": {
      "text/plain": [
       "[(30723, ((3.92452631824175, u'Vincent & Theo (1990)'), 1))]"
      ]
     },
     "execution_count": 18,
     "metadata": {},
     "output_type": "execute_result"
    }
   ],
   "source": [
    "new_user_recommendations_rating_title_and_count = new_user_recommend_rating.join(Movies_titles).join(movie_rating_counts)\n",
    "new_user_recommendations_rating_title_and_count.take(1)"
   ]
  },
  {
   "cell_type": "code",
   "execution_count": 19,
   "metadata": {
    "collapsed": false,
    "scrolled": false
   },
   "outputs": [
    {
     "data": {
      "text/plain": [
       "[(u'Vincent & Theo (1990)', 3.92452631824175, 1),\n",
       " (u'Hiroshima Mon Amour (1959)', 3.6806260206599264, 3),\n",
       " (u'Eddie Murphy Raw (1987)', 3.5798576488036122, 9)]"
      ]
     },
     "execution_count": 19,
     "metadata": {},
     "output_type": "execute_result"
    }
   ],
   "source": [
    "new_user_recommendations_rating_title_and_count =\\\n",
    "new_user_recommendations_rating_title_and_count.map(lambda r: (r[1][0][1], r[1][0][0], r[1][1]))\n",
    "new_user_recommendations_rating_title_and_count.take(3)"
   ]
  },
  {
   "cell_type": "code",
   "execution_count": 20,
   "metadata": {
    "collapsed": false
   },
   "outputs": [
    {
     "name": "stdout",
     "output_type": "stream",
     "text": [
      "top recommended movies (with more than 25 reviews):\n",
      "(u'\"Lives of Others', 4.092569461489552, 37)\n",
      "(u'\"Godfather', 4.091616247975115, 200)\n",
      "(u'Kill Bill: Vol. 1 (2003)', 4.046134113252853, 111)\n",
      "(u'Network (1976)', 4.0307222030900265, 38)\n",
      "(u'Metropolis (1927)', 4.018070001505785, 26)\n",
      "(u'Brokeback Mountain (2005)', 3.989194464857835, 29)\n",
      "(u'2001: A Space Odyssey (1968)', 3.977033297174821, 123)\n",
      "(u'Crumb (1994)', 3.9691989003548267, 33)\n",
      "(u'Pulp Fiction (1994)', 3.968294876208163, 324)\n",
      "(u'\"Great Escape', 3.9005826749306207, 49)\n"
     ]
    }
   ],
   "source": [
    "#top 10 recommended movies with more than 25 reviews\n",
    "top_movies = new_user_recommendations_rating_title_and_count.filter(lambda r: r[2]>=25).takeOrdered(10, key=lambda x: -x[1])\n",
    "\n",
    "print ('top recommended movies (with more than 25 reviews):\\n%s' %\n",
    "        '\\n'.join(map(str, top_movies)))"
   ]
  },
  {
   "cell_type": "code",
   "execution_count": 21,
   "metadata": {
    "collapsed": false,
    "scrolled": true
   },
   "outputs": [
    {
     "data": {
      "text/plain": [
       "[Rating(user=672, product=2275, rating=5.011826548820569),\n",
       " Rating(user=672, product=94466, rating=4.9529057155978355),\n",
       " Rating(user=672, product=83411, rating=4.90565769704292),\n",
       " Rating(user=672, product=67504, rating=4.90565769704292),\n",
       " Rating(user=672, product=83359, rating=4.90565769704292),\n",
       " Rating(user=672, product=83318, rating=4.90565769704292),\n",
       " Rating(user=672, product=4404, rating=4.7357703006014775),\n",
       " Rating(user=672, product=8751, rating=4.714549646868534),\n",
       " Rating(user=672, product=71033, rating=4.696866631674475),\n",
       " Rating(user=672, product=60293, rating=4.63747606743601),\n",
       " Rating(user=672, product=44587, rating=4.618483682665266),\n",
       " Rating(user=672, product=3133, rating=4.592292298859773),\n",
       " Rating(user=672, product=3746, rating=4.590039315148545),\n",
       " Rating(user=672, product=6063, rating=4.587173411058189),\n",
       " Rating(user=672, product=1085, rating=4.578987197741626),\n",
       " Rating(user=672, product=7826, rating=4.575191726907963),\n",
       " Rating(user=672, product=7459, rating=4.563598002003361),\n",
       " Rating(user=672, product=66246, rating=4.558474436420066),\n",
       " Rating(user=672, product=6918, rating=4.526452990272047),\n",
       " Rating(user=672, product=8253, rating=4.524769153663451)]"
      ]
     },
     "execution_count": 21,
     "metadata": {},
     "output_type": "execute_result"
    }
   ],
   "source": [
    "new_model.recommendProducts(672,20)"
   ]
  },
  {
   "cell_type": "code",
   "execution_count": 22,
   "metadata": {
    "collapsed": false
   },
   "outputs": [
    {
     "data": {
      "text/plain": [
       "3.923314703733938"
      ]
     },
     "execution_count": 22,
     "metadata": {},
     "output_type": "execute_result"
    }
   ],
   "source": [
    "model.predict(575,148)"
   ]
  },
  {
   "cell_type": "code",
   "execution_count": 23,
   "metadata": {
    "collapsed": false
   },
   "outputs": [
    {
     "data": {
      "text/plain": [
       "3.914095361301132"
      ]
     },
     "execution_count": 23,
     "metadata": {},
     "output_type": "execute_result"
    }
   ],
   "source": [
    "new_model.predict(575,148)"
   ]
  },
  {
   "cell_type": "code",
   "execution_count": null,
   "metadata": {
    "collapsed": true
   },
   "outputs": [],
   "source": []
  }
 ],
 "metadata": {
  "kernelspec": {
   "display_name": "Python 3",
   "language": "python",
   "name": "python3"
  },
  "language_info": {
   "codemirror_mode": {
    "name": "ipython",
    "version": 3
   },
   "file_extension": ".py",
   "mimetype": "text/x-python",
   "name": "python",
   "nbconvert_exporter": "python",
   "pygments_lexer": "ipython3",
   "version": "3.6.0"
  }
 },
 "nbformat": 4,
 "nbformat_minor": 0
}
